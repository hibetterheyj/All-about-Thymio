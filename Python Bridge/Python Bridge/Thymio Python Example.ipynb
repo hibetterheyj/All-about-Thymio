{
 "cells": [
  {
   "cell_type": "markdown",
   "metadata": {
    "toc": true
   },
   "source": [
    "<h1>Table of Contents<span class=\"tocSkip\"></span></h1>\n",
    "<div class=\"toc\"><ul class=\"toc-item\"><li><span><a href=\"#Thymio-Python-Bridge\" data-toc-modified-id=\"Thymio-Python-Bridge-1\"><span class=\"toc-item-num\">1&nbsp;&nbsp;</span>Thymio-Python Bridge</a></span></li><li><span><a href=\"#Imports\" data-toc-modified-id=\"Imports-2\"><span class=\"toc-item-num\">2&nbsp;&nbsp;</span>Imports</a></span></li><li><span><a href=\"#Connecting-the-Thymio\" data-toc-modified-id=\"Connecting-the-Thymio-3\"><span class=\"toc-item-num\">3&nbsp;&nbsp;</span>Connecting the Thymio</a></span></li><li><span><a href=\"#List-of-accessible-methods\" data-toc-modified-id=\"List-of-accessible-methods-4\"><span class=\"toc-item-num\">4&nbsp;&nbsp;</span>List of accessible methods</a></span></li><li><span><a href=\"#Reading-values-from-Thymio-sensors\" data-toc-modified-id=\"Reading-values-from-Thymio-sensors-5\"><span class=\"toc-item-num\">5&nbsp;&nbsp;</span>Reading values from Thymio sensors</a></span></li><li><span><a href=\"#Passing-single-values-to-the-Thymio\" data-toc-modified-id=\"Passing-single-values-to-the-Thymio-6\"><span class=\"toc-item-num\">6&nbsp;&nbsp;</span>Passing single values to the Thymio</a></span></li><li><span><a href=\"#Passing-multiple-values-to-Thymio\" data-toc-modified-id=\"Passing-multiple-values-to-Thymio-7\"><span class=\"toc-item-num\">7&nbsp;&nbsp;</span>Passing multiple values to Thymio</a></span></li></ul></div>"
   ]
  },
  {
   "cell_type": "markdown",
   "metadata": {},
   "source": [
    "# Thymio-Python Bridge\n",
    "\n",
    "To connect to the Thymio robot and control it through python you will have to have the Thymio connected through the serial port. That means that your Thymio will have to be connected to the computer with a cable at all times. \n",
    "\n",
    "\n",
    "The python script `Thymio.py` is going to help you do that and we are going to guide you through the usage of the script. \n",
    "\n",
    "\n",
    "\n"
   ]
  },
  {
   "cell_type": "code",
   "execution_count": null,
   "metadata": {
    "ExecuteTime": {
     "end_time": "2020-08-29T12:34:35.886396Z",
     "start_time": "2020-08-29T12:34:34.933996Z"
    }
   },
   "outputs": [],
   "source": [
    "pip install pyserial"
   ]
  },
  {
   "cell_type": "markdown",
   "metadata": {},
   "source": [
    "If you want to be able to access and control the LEDs from the serial port, you will have to upgrade the Thymio's firmware to the version 13. This however is not necessary but if you think that you need it then you will have to install [Thymio suite](https://www.thymio.org/news/thymio-suite-second-test-phase/), launch Aseba studio and then right click on the Thymio and select upgrade firmware.\n"
   ]
  },
  {
   "cell_type": "markdown",
   "metadata": {},
   "source": [
    "# Imports"
   ]
  },
  {
   "cell_type": "code",
   "execution_count": null,
   "metadata": {
    "ExecuteTime": {
     "end_time": "2020-08-29T12:52:42.121860Z",
     "start_time": "2020-08-29T12:52:42.112779Z"
    }
   },
   "outputs": [],
   "source": [
    "import os\n",
    "import sys\n",
    "import time\n",
    "import serial\n",
    "\n",
    "# Adding the src folder in the current directory as it contains the script\n",
    "# with the Thymio class\n",
    "sys.path.insert(0, os.path.join(os.getcwd(), 'src'))\n",
    "\n",
    "from Thymio import Thymio\n"
   ]
  },
  {
   "cell_type": "markdown",
   "metadata": {},
   "source": [
    "# Connecting the Thymio\n",
    "\n",
    "To connect to the Thymio, you first have to start by connecting it to a USB port. Then you will need to identify the ID of the serial port it is connected to. \n",
    "\n",
    "With ASEBA Studio 1.16 you can see the serial port that the robot is connected to directly. It is highlighted in the image below.\n",
    "\n",
    "<img src=\"Images/AsebaStudio.png\"\n",
    "     alt=\"Aseba Studio\"\n",
    "     style=\"float: left; margin-right: 10px;\" />\n",
    "\n",
    "\n",
    "Otherwise, the procedure to identify the serial port is the following : \n",
    "\n",
    "**MacOs** \n",
    "\n",
    "Open terminal and write : ls /dev/cu.usb* to get the serial portt\n",
    "1. Open a terminal window and enter the following command: ls /dev/cu.usbmodem*\n",
    "2. Look for cu.usbmodemXXXX, where XXXX is the number attributed by your computer. You should find one ID\n",
    "\n",
    "Note : Virtual serial port numbering on Mac depends on the physical USB port used and the device. If you want to keep the same names, you must connect to the same USB port each time.\n",
    "\n",
    "**Windows**\n",
    "- Open the Device Manager\n",
    "- Under Ports (COM & LPT) you can see the virtual ports connected to your computer.\n",
    "- Do a Right-click -> properties on the COM port you want to identify.\n",
    "- Go under the details tab and select Bus reported device description in the properties list.\n",
    "- The name of the port should be written in the text box below. The name of the port you are looking for is called Thymio II\n",
    "- Once you found the desired device, you can simply look at its port number (COMX).\n",
    "\n",
    "**Linux**\n",
    "1. Open a terminal window (ctrl+alt+t) and enter the following command: ls /dev/ttyACM*\n",
    "2. Look for ttyACM0 in the generated list.\n",
    "\n",
    "Note : Virtual serial port numbering on Linux depends on the connections order, thus it can be different if another device using virtual serial ports is already connected to your computer before connecting the robot, but the sequence remains the same."
   ]
  },
  {
   "cell_type": "code",
   "execution_count": null,
   "metadata": {
    "ExecuteTime": {
     "end_time": "2020-08-29T12:52:47.706732Z",
     "start_time": "2020-08-29T12:52:47.690436Z"
    }
   },
   "outputs": [],
   "source": [
    "th = Thymio.serial(port=\"/dev/cu.usbmodem143101\", refreshing_rate=0.1)"
   ]
  },
  {
   "cell_type": "markdown",
   "metadata": {},
   "source": [
    "# List of accessible methods\n",
    "\n",
    "Using the function dir( ) you can see all the attributes of the Thymio instance. This can also be used with any other class instance in python"
   ]
  },
  {
   "cell_type": "code",
   "execution_count": null,
   "metadata": {
    "ExecuteTime": {
     "end_time": "2020-08-29T12:52:51.473548Z",
     "start_time": "2020-08-29T12:52:51.462661Z"
    }
   },
   "outputs": [],
   "source": [
    "dir(th)"
   ]
  },
  {
   "cell_type": "markdown",
   "metadata": {},
   "source": [
    "As you can see, the last element of this list is the `variable_description` function. This can be used to see what the differentt read-write variables that you can access are. You need to know the name and size of the variables that you are interested in."
   ]
  },
  {
   "cell_type": "code",
   "execution_count": null,
   "metadata": {
    "ExecuteTime": {
     "end_time": "2020-08-29T12:52:54.204438Z",
     "start_time": "2020-08-29T12:52:53.196667Z"
    }
   },
   "outputs": [],
   "source": [
    "\n",
    "time.sleep(1)\n",
    "\n",
    "variables = th.variable_description()\n",
    "\n",
    "for var in variables : \n",
    "    print(var)\n",
    "    \n"
   ]
  },
  {
   "cell_type": "markdown",
   "metadata": {},
   "source": [
    "# Reading values from Thymio sensors\n",
    "\n",
    "Here you can see how to read the values of the horizontal proximity sensors 10 times with a frequency of 5Hz (once every 0.2s). You can access "
   ]
  },
  {
   "cell_type": "code",
   "execution_count": null,
   "metadata": {
    "ExecuteTime": {
     "end_time": "2020-08-29T12:36:31.127153Z",
     "start_time": "2020-08-29T12:36:25.042891Z"
    }
   },
   "outputs": [],
   "source": [
    "for i in range(30):\n",
    "    print(th[\"prox.horizontal\"])\n",
    "    time.sleep(0.2)\n"
   ]
  },
  {
   "cell_type": "markdown",
   "metadata": {},
   "source": [
    "# Passing single values to the Thymio"
   ]
  },
  {
   "cell_type": "markdown",
   "metadata": {},
   "source": [
    "All the variables of size 1 can be set using the `set_var` function. Here is the example that shows how to set the left and right motor speeds to 100. "
   ]
  },
  {
   "cell_type": "code",
   "execution_count": null,
   "metadata": {
    "ExecuteTime": {
     "end_time": "2020-08-29T12:37:00.931636Z",
     "start_time": "2020-08-29T12:37:00.928935Z"
    }
   },
   "outputs": [],
   "source": [
    "th.set_var(\"motor.left.target\", 0)\n",
    "th.set_var(\"motor.right.target\", 0)"
   ]
  },
  {
   "cell_type": "code",
   "execution_count": null,
   "metadata": {
    "ExecuteTime": {
     "end_time": "2020-08-29T12:53:05.892025Z",
     "start_time": "2020-08-29T12:53:00.885346Z"
    }
   },
   "outputs": [],
   "source": [
    "th.set_var(\"motor.left.target\", 50)\n",
    "th.set_var(\"motor.right.target\", 50)\n",
    "\n",
    "time.sleep(5)\n",
    "\n",
    "th.set_var(\"motor.left.target\", 0)\n",
    "th.set_var(\"motor.right.target\", 0)"
   ]
  },
  {
   "cell_type": "markdown",
   "metadata": {},
   "source": [
    "Note that to send a negative value, as the values are coded in uint_16, you need to add `2^16-x` where `x`is the absolute value of the negative speed that you want to set (c.f. complément à 2 sur 16 bits)"
   ]
  },
  {
   "cell_type": "code",
   "execution_count": null,
   "metadata": {
    "ExecuteTime": {
     "end_time": "2020-08-29T12:34:53.061957Z",
     "start_time": "2020-08-29T12:34:48.052449Z"
    }
   },
   "outputs": [],
   "source": [
    "th.set_var(\"motor.left.target\", 500)\n",
    "th.set_var(\"motor.right.target\", 2**16-500)\n",
    "\n",
    "time.sleep(5)\n",
    "\n",
    "th.set_var(\"motor.left.target\", 0)\n",
    "th.set_var(\"motor.right.target\", 0)"
   ]
  },
  {
   "cell_type": "markdown",
   "metadata": {},
   "source": [
    "# Passing multiple values to Thymio\n",
    "\n",
    "All the variables of size superior to one must be set using the `set_var_array` function. Here is the example of setting the top LED values to red."
   ]
  },
  {
   "cell_type": "code",
   "execution_count": null,
   "metadata": {
    "ExecuteTime": {
     "end_time": "2020-08-29T12:34:53.159691Z",
     "start_time": "2020-08-29T12:34:53.064947Z"
    }
   },
   "outputs": [],
   "source": [
    "th.set_var_array(\"leds.top\", [255, 0, 0])"
   ]
  },
  {
   "cell_type": "code",
   "execution_count": null,
   "metadata": {},
   "outputs": [],
   "source": []
  }
 ],
 "metadata": {
  "hide_input": false,
  "kernelspec": {
   "display_name": "Python 3",
   "language": "python",
   "name": "python3"
  },
  "language_info": {
   "codemirror_mode": {
    "name": "ipython",
    "version": 3
   },
   "file_extension": ".py",
   "mimetype": "text/x-python",
   "name": "python",
   "nbconvert_exporter": "python",
   "pygments_lexer": "ipython3",
   "version": "3.7.3"
  },
  "toc": {
   "base_numbering": 1,
   "nav_menu": {},
   "number_sections": true,
   "sideBar": true,
   "skip_h1_title": false,
   "title_cell": "Table of Contents",
   "title_sidebar": "Contents",
   "toc_cell": true,
   "toc_position": {},
   "toc_section_display": true,
   "toc_window_display": true
  }
 },
 "nbformat": 4,
 "nbformat_minor": 2
}
